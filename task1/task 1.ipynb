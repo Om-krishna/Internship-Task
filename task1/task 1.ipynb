{
 "cells": [
  {
   "cell_type": "code",
   "execution_count": null,
   "metadata": {},
   "outputs": [],
   "source": [
    "from bs4 import BeautifulSoup\n",
    "import requests\n",
    "import random"
   ]
  },
  {
   "cell_type": "code",
   "execution_count": null,
   "metadata": {},
   "outputs": [],
   "source": [
    "def get_imd_movies(url):\n",
    "    page = requests.get(url)\n",
    "    soup = BeautifulSoup(page.text, 'html.parser')\n",
    "    movies = soup.find_all(\"td\", class_=\"titleColumn\")\n",
    "    random.shuffle(movies)\n",
    "    return movies"
   ]
  },
  {
   "cell_type": "code",
   "execution_count": null,
   "metadata": {},
   "outputs": [],
   "source": [
    "def get_imd_movie_info(movie):\n",
    "    movie_title = movie.a.contents[0]\n",
    "    movie_year = movie.span.contents[0]\n",
    "    movie_url = 'http://www.imdb.com' + movie.a['href']\n",
    "    return movie_title, movie_year, movie_url\n"
   ]
  },
  {
   "cell_type": "code",
   "execution_count": null,
   "metadata": {},
   "outputs": [],
   "source": [
    "def imd_movie_picker():\n",
    "    ctr=0\n",
    "    print(\"--------------------------------------------\")\n",
    "    for movie in get_imd_movies('http://www.imdb.com/chart/top'):\n",
    "        movie_title, movie_year, movie_url = get_imd_movie_info(movie)\n",
    "        print(movie_title, movie_year)\n",
    "        print(\"--------------------------------------------\")\n",
    "        ctr=ctr+1\n",
    "        if (ctr==10):\n",
    "            break;   \n",
    "if __name__ == '__main__':\n",
    "    imd_movie_picker()"
   ]
  },
  {
   "cell_type": "code",
   "execution_count": null,
   "metadata": {},
   "outputs": [],
   "source": []
  }
 ],
 "metadata": {
  "kernelspec": {
   "display_name": "Python 3",
   "language": "python",
   "name": "python3"
  },
  "language_info": {
   "codemirror_mode": {
    "name": "ipython",
    "version": 3
   },
   "file_extension": ".py",
   "mimetype": "text/x-python",
   "name": "python",
   "nbconvert_exporter": "python",
   "pygments_lexer": "ipython3",
   "version": "3.8.3"
  }
 },
 "nbformat": 4,
 "nbformat_minor": 4
}
